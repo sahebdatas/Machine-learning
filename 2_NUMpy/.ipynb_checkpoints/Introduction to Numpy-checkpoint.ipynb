{
 "cells": [
  {
   "cell_type": "code",
   "execution_count": 2,
   "id": "a8409216",
   "metadata": {},
   "outputs": [],
   "source": [
    "import numpy as np"
   ]
  },
  {
   "cell_type": "markdown",
   "id": "41425ef6",
   "metadata": {},
   "source": [
    "# 1.Datatypes and attributes"
   ]
  },
  {
   "cell_type": "code",
   "execution_count": 3,
   "id": "eba48752",
   "metadata": {},
   "outputs": [
    {
     "data": {
      "text/plain": [
       "array([1, 2, 3])"
      ]
     },
     "execution_count": 3,
     "metadata": {},
     "output_type": "execute_result"
    }
   ],
   "source": [
    "# numpy's main datatype is ndarray\n",
    "a1=np.array([1,2,3])\n",
    "a1"
   ]
  },
  {
   "cell_type": "code",
   "execution_count": 4,
   "id": "8f2d7325",
   "metadata": {},
   "outputs": [
    {
     "data": {
      "text/plain": [
       "numpy.ndarray"
      ]
     },
     "execution_count": 4,
     "metadata": {},
     "output_type": "execute_result"
    }
   ],
   "source": [
    "type(a1)"
   ]
  },
  {
   "cell_type": "code",
   "execution_count": 5,
   "id": "a94bf17c",
   "metadata": {},
   "outputs": [
    {
     "data": {
      "text/plain": [
       "array([[1. , 2. , 3.6],\n",
       "       [4.9, 5.2, 6. ]])"
      ]
     },
     "execution_count": 5,
     "metadata": {},
     "output_type": "execute_result"
    }
   ],
   "source": [
    "# lets create 2d array\n",
    "a2=np.array([[1.0,2,3.6],[4.9,5.2,6]])\n",
    "a2"
   ]
  },
  {
   "cell_type": "code",
   "execution_count": 6,
   "id": "27d36330",
   "metadata": {},
   "outputs": [
    {
     "data": {
      "text/plain": [
       "array([[[ 1,  2,  3],\n",
       "        [ 4,  5,  6]],\n",
       "\n",
       "       [[ 7,  8,  9],\n",
       "        [10, 11, 12]],\n",
       "\n",
       "       [[13, 14, 15],\n",
       "        [16, 17, 18]]])"
      ]
     },
     "execution_count": 6,
     "metadata": {},
     "output_type": "execute_result"
    }
   ],
   "source": [
    "# lets create a 3d array\n",
    "a3=np.array([[[1,2,3,],[4,5,6]],[[7,8,9],[10,11,12]],[[13,14,15],[16,17,18]]])\n",
    "a3"
   ]
  },
  {
   "cell_type": "code",
   "execution_count": 7,
   "id": "61e15d1d",
   "metadata": {},
   "outputs": [
    {
     "data": {
      "text/plain": [
       "((3,), (2, 3), (3, 2, 3))"
      ]
     },
     "execution_count": 7,
     "metadata": {},
     "output_type": "execute_result"
    }
   ],
   "source": [
    "# lets see the shape of our arrays\n",
    "a1.shape,a2.shape,a3.shape"
   ]
  },
  {
   "cell_type": "code",
   "execution_count": 8,
   "id": "6e451cfe",
   "metadata": {},
   "outputs": [
    {
     "data": {
      "text/plain": [
       "(1, 2, 3)"
      ]
     },
     "execution_count": 8,
     "metadata": {},
     "output_type": "execute_result"
    }
   ],
   "source": [
    "# lets see how many dimension our array has\n",
    "a1.ndim,a2.ndim,a3.ndim"
   ]
  },
  {
   "cell_type": "code",
   "execution_count": 9,
   "id": "ae3b774d",
   "metadata": {},
   "outputs": [
    {
     "data": {
      "text/plain": [
       "(dtype('int32'), dtype('float64'), dtype('int32'))"
      ]
     },
     "execution_count": 9,
     "metadata": {},
     "output_type": "execute_result"
    }
   ],
   "source": [
    "# lets see what kind of data type does these arrays have\n",
    "a1.dtype,a2.dtype,a3.dtype"
   ]
  },
  {
   "cell_type": "code",
   "execution_count": 10,
   "id": "978a285a",
   "metadata": {},
   "outputs": [
    {
     "data": {
      "text/plain": [
       "(3, 6, 18)"
      ]
     },
     "execution_count": 10,
     "metadata": {},
     "output_type": "execute_result"
    }
   ],
   "source": [
    "# lets see the no of element/the size of the array\n",
    "a1.size,a2.size,a3.size"
   ]
  },
  {
   "cell_type": "code",
   "execution_count": 11,
   "id": "96403eb7",
   "metadata": {},
   "outputs": [
    {
     "data": {
      "text/plain": [
       "(numpy.ndarray, numpy.ndarray, numpy.ndarray)"
      ]
     },
     "execution_count": 11,
     "metadata": {},
     "output_type": "execute_result"
    }
   ],
   "source": [
    "# lets see the type of the array\n",
    "type(a1),type(a2),type(a3)"
   ]
  },
  {
   "cell_type": "code",
   "execution_count": 12,
   "id": "e60be671",
   "metadata": {},
   "outputs": [],
   "source": [
    "# creating a DataFrame from a numpy array\n",
    "import pandas as pd\n",
    "df=pd.DataFrame(a2)"
   ]
  },
  {
   "cell_type": "code",
   "execution_count": 13,
   "id": "9e54fa5d",
   "metadata": {},
   "outputs": [
    {
     "data": {
      "text/html": [
       "<div>\n",
       "<style scoped>\n",
       "    .dataframe tbody tr th:only-of-type {\n",
       "        vertical-align: middle;\n",
       "    }\n",
       "\n",
       "    .dataframe tbody tr th {\n",
       "        vertical-align: top;\n",
       "    }\n",
       "\n",
       "    .dataframe thead th {\n",
       "        text-align: right;\n",
       "    }\n",
       "</style>\n",
       "<table border=\"1\" class=\"dataframe\">\n",
       "  <thead>\n",
       "    <tr style=\"text-align: right;\">\n",
       "      <th></th>\n",
       "      <th>0</th>\n",
       "      <th>1</th>\n",
       "      <th>2</th>\n",
       "    </tr>\n",
       "  </thead>\n",
       "  <tbody>\n",
       "    <tr>\n",
       "      <th>0</th>\n",
       "      <td>1.0</td>\n",
       "      <td>2.0</td>\n",
       "      <td>3.6</td>\n",
       "    </tr>\n",
       "    <tr>\n",
       "      <th>1</th>\n",
       "      <td>4.9</td>\n",
       "      <td>5.2</td>\n",
       "      <td>6.0</td>\n",
       "    </tr>\n",
       "  </tbody>\n",
       "</table>\n",
       "</div>"
      ],
      "text/plain": [
       "     0    1    2\n",
       "0  1.0  2.0  3.6\n",
       "1  4.9  5.2  6.0"
      ]
     },
     "execution_count": 13,
     "metadata": {},
     "output_type": "execute_result"
    }
   ],
   "source": [
    "df"
   ]
  },
  {
   "cell_type": "markdown",
   "id": "811a8156",
   "metadata": {},
   "source": [
    "# 2.Creating numpy array"
   ]
  },
  {
   "cell_type": "code",
   "execution_count": 43,
   "id": "e90940be",
   "metadata": {},
   "outputs": [],
   "source": [
    "# press shift+tab inside a of a function brackets to get info and press on + icon for eg."
   ]
  },
  {
   "cell_type": "code",
   "execution_count": 58,
   "id": "c31bb84c",
   "metadata": {},
   "outputs": [],
   "source": [
    "# creating arrays filled with ones\n",
    "ones= np.ones((4,5,10),dtype=int)"
   ]
  },
  {
   "cell_type": "code",
   "execution_count": 59,
   "id": "51d019d2",
   "metadata": {},
   "outputs": [
    {
     "data": {
      "text/plain": [
       "array([[[1, 1, 1, 1, 1, 1, 1, 1, 1, 1],\n",
       "        [1, 1, 1, 1, 1, 1, 1, 1, 1, 1],\n",
       "        [1, 1, 1, 1, 1, 1, 1, 1, 1, 1],\n",
       "        [1, 1, 1, 1, 1, 1, 1, 1, 1, 1],\n",
       "        [1, 1, 1, 1, 1, 1, 1, 1, 1, 1]],\n",
       "\n",
       "       [[1, 1, 1, 1, 1, 1, 1, 1, 1, 1],\n",
       "        [1, 1, 1, 1, 1, 1, 1, 1, 1, 1],\n",
       "        [1, 1, 1, 1, 1, 1, 1, 1, 1, 1],\n",
       "        [1, 1, 1, 1, 1, 1, 1, 1, 1, 1],\n",
       "        [1, 1, 1, 1, 1, 1, 1, 1, 1, 1]],\n",
       "\n",
       "       [[1, 1, 1, 1, 1, 1, 1, 1, 1, 1],\n",
       "        [1, 1, 1, 1, 1, 1, 1, 1, 1, 1],\n",
       "        [1, 1, 1, 1, 1, 1, 1, 1, 1, 1],\n",
       "        [1, 1, 1, 1, 1, 1, 1, 1, 1, 1],\n",
       "        [1, 1, 1, 1, 1, 1, 1, 1, 1, 1]],\n",
       "\n",
       "       [[1, 1, 1, 1, 1, 1, 1, 1, 1, 1],\n",
       "        [1, 1, 1, 1, 1, 1, 1, 1, 1, 1],\n",
       "        [1, 1, 1, 1, 1, 1, 1, 1, 1, 1],\n",
       "        [1, 1, 1, 1, 1, 1, 1, 1, 1, 1],\n",
       "        [1, 1, 1, 1, 1, 1, 1, 1, 1, 1]]])"
      ]
     },
     "execution_count": 59,
     "metadata": {},
     "output_type": "execute_result"
    }
   ],
   "source": [
    "ones"
   ]
  },
  {
   "cell_type": "code",
   "execution_count": 60,
   "id": "5f97835d",
   "metadata": {},
   "outputs": [],
   "source": [
    "# creating arrays filled with zeros\n",
    "zero=np.zeros((2,3))"
   ]
  },
  {
   "cell_type": "code",
   "execution_count": 61,
   "id": "cdbb2045",
   "metadata": {},
   "outputs": [
    {
     "data": {
      "text/plain": [
       "array([[0., 0., 0.],\n",
       "       [0., 0., 0.]])"
      ]
     },
     "execution_count": 61,
     "metadata": {},
     "output_type": "execute_result"
    }
   ],
   "source": [
    "zero"
   ]
  },
  {
   "cell_type": "code",
   "execution_count": 64,
   "id": "9f8767d7",
   "metadata": {},
   "outputs": [
    {
     "data": {
      "text/plain": [
       "dtype('float64')"
      ]
     },
     "execution_count": 64,
     "metadata": {},
     "output_type": "execute_result"
    }
   ],
   "source": [
    "zero.dtype"
   ]
  },
  {
   "cell_type": "code",
   "execution_count": 65,
   "id": "4172a60e",
   "metadata": {},
   "outputs": [
    {
     "data": {
      "text/plain": [
       "numpy.ndarray"
      ]
     },
     "execution_count": 65,
     "metadata": {},
     "output_type": "execute_result"
    }
   ],
   "source": [
    "type(zero)"
   ]
  },
  {
   "cell_type": "code",
   "execution_count": 74,
   "id": "434f8c52",
   "metadata": {},
   "outputs": [],
   "source": [
    "range_array=np.arange(5,10,1.5)"
   ]
  },
  {
   "cell_type": "code",
   "execution_count": 75,
   "id": "b6736293",
   "metadata": {},
   "outputs": [
    {
     "data": {
      "text/plain": [
       "array([5. , 6.5, 8. , 9.5])"
      ]
     },
     "execution_count": 75,
     "metadata": {},
     "output_type": "execute_result"
    }
   ],
   "source": [
    "range_array"
   ]
  },
  {
   "cell_type": "code",
   "execution_count": 78,
   "id": "0854a1a9",
   "metadata": {},
   "outputs": [],
   "source": [
    "random_array= np.random.randint(1,10,size=(10,3))"
   ]
  },
  {
   "cell_type": "code",
   "execution_count": 79,
   "id": "31b04fd4",
   "metadata": {},
   "outputs": [
    {
     "data": {
      "text/plain": [
       "array([[8, 2, 7],\n",
       "       [6, 6, 5],\n",
       "       [2, 1, 5],\n",
       "       [2, 4, 7],\n",
       "       [3, 9, 3],\n",
       "       [8, 7, 7],\n",
       "       [9, 4, 6],\n",
       "       [5, 2, 1],\n",
       "       [5, 8, 5],\n",
       "       [4, 2, 8]])"
      ]
     },
     "execution_count": 79,
     "metadata": {},
     "output_type": "execute_result"
    }
   ],
   "source": [
    "random_array"
   ]
  },
  {
   "cell_type": "code",
   "execution_count": 84,
   "id": "cf3bfebb",
   "metadata": {},
   "outputs": [
    {
     "data": {
      "text/plain": [
       "array([[0.29372478, 0.63512054],\n",
       "       [0.01326726, 0.89884577],\n",
       "       [0.79461329, 0.61683019],\n",
       "       [0.45407926, 0.65144887],\n",
       "       [0.20207889, 0.21354562]])"
      ]
     },
     "execution_count": 84,
     "metadata": {},
     "output_type": "execute_result"
    }
   ],
   "source": [
    "random_array_2=np.random.random(size=(5,2))\n",
    "random_array_2"
   ]
  },
  {
   "cell_type": "code",
   "execution_count": 86,
   "id": "cbd70eba",
   "metadata": {},
   "outputs": [
    {
     "data": {
      "text/plain": [
       "array([[0.45148638, 0.52989332, 0.65489839],\n",
       "       [0.05457029, 0.7674951 , 0.34634568]])"
      ]
     },
     "execution_count": 86,
     "metadata": {},
     "output_type": "execute_result"
    }
   ],
   "source": [
    "random_array_3=np.random.rand(2,3)\n",
    "random_array_3"
   ]
  },
  {
   "cell_type": "code",
   "execution_count": 97,
   "id": "f7d9ac81",
   "metadata": {},
   "outputs": [
    {
     "data": {
      "text/plain": [
       "array([[4, 9],\n",
       "       [6, 3],\n",
       "       [3, 7],\n",
       "       [7, 9],\n",
       "       [7, 8]])"
      ]
     },
     "execution_count": 97,
     "metadata": {},
     "output_type": "execute_result"
    }
   ],
   "source": [
    "# random.seed makes the randomly genrated no. same all the time\n",
    "np.random.seed(7)\n",
    "random_array_4=np.random.randint(0,10,size=(5,2))\n",
    "random_array_4"
   ]
  },
  {
   "cell_type": "code",
   "execution_count": 99,
   "id": "b8ce9be8",
   "metadata": {},
   "outputs": [
    {
     "data": {
      "text/plain": [
       "array([[4, 9],\n",
       "       [6, 3],\n",
       "       [3, 7],\n",
       "       [7, 9],\n",
       "       [7, 8]])"
      ]
     },
     "execution_count": 99,
     "metadata": {},
     "output_type": "execute_result"
    }
   ],
   "source": [
    "np.random.seed(7)\n",
    "random_array_5=np.random.randint(0,10,size=(5,2))\n",
    "random_array_5"
   ]
  },
  {
   "cell_type": "markdown",
   "id": "5c1d7845",
   "metadata": {},
   "source": [
    "# 3.Viewing arrays and matrices"
   ]
  },
  {
   "cell_type": "code",
   "execution_count": 107,
   "id": "96073393",
   "metadata": {},
   "outputs": [
    {
     "data": {
      "text/plain": [
       "array([[6, 3, 5],\n",
       "       [8, 8, 7],\n",
       "       [5, 0, 0]])"
      ]
     },
     "execution_count": 107,
     "metadata": {},
     "output_type": "execute_result"
    }
   ],
   "source": [
    "random_array=np.random.randint(10, size=(3,3))\n",
    "random_array"
   ]
  },
  {
   "cell_type": "code",
   "execution_count": 106,
   "id": "1736b2f0",
   "metadata": {},
   "outputs": [
    {
     "data": {
      "text/plain": [
       "array([0, 4, 6, 7, 8, 9])"
      ]
     },
     "execution_count": 106,
     "metadata": {},
     "output_type": "execute_result"
    }
   ],
   "source": [
    "np.unique(random_array)"
   ]
  },
  {
   "cell_type": "code",
   "execution_count": 112,
   "id": "b516354a",
   "metadata": {},
   "outputs": [
    {
     "data": {
      "text/plain": [
       "array([[[[7, 3, 8, 5, 6],\n",
       "         [4, 2, 7, 9, 6],\n",
       "         [8, 6, 1, 0, 7],\n",
       "         [6, 8, 5, 4, 3]],\n",
       "\n",
       "        [[0, 7, 4, 0, 8],\n",
       "         [5, 0, 7, 5, 1],\n",
       "         [5, 9, 4, 1, 9],\n",
       "         [6, 5, 6, 8, 5]],\n",
       "\n",
       "        [[9, 4, 6, 0, 6],\n",
       "         [2, 3, 1, 6, 7],\n",
       "         [0, 0, 4, 7, 0],\n",
       "         [2, 9, 6, 1, 2]]],\n",
       "\n",
       "\n",
       "       [[[2, 8, 9, 7, 2],\n",
       "         [4, 7, 7, 9, 1],\n",
       "         [0, 1, 8, 7, 4],\n",
       "         [6, 1, 4, 8, 7]],\n",
       "\n",
       "        [[3, 3, 6, 4, 9],\n",
       "         [5, 7, 9, 9, 7],\n",
       "         [6, 9, 8, 8, 6],\n",
       "         [2, 2, 2, 5, 1]],\n",
       "\n",
       "        [[4, 1, 4, 9, 5],\n",
       "         [3, 5, 8, 7, 0],\n",
       "         [8, 5, 4, 0, 4],\n",
       "         [7, 0, 6, 1, 0]]]])"
      ]
     },
     "execution_count": 112,
     "metadata": {},
     "output_type": "execute_result"
    }
   ],
   "source": [
    "# slicing the arrays\n",
    "rnd=np.random.randint(10,size=(2,3,4,5))\n",
    "rnd"
   ]
  },
  {
   "cell_type": "code",
   "execution_count": 113,
   "id": "98f068cb",
   "metadata": {},
   "outputs": [
    {
     "data": {
      "text/plain": [
       "array([[[[7, 3, 8],\n",
       "         [4, 2, 7]],\n",
       "\n",
       "        [[0, 7, 4],\n",
       "         [5, 0, 7]],\n",
       "\n",
       "        [[9, 4, 6],\n",
       "         [2, 3, 1]]],\n",
       "\n",
       "\n",
       "       [[[2, 8, 9],\n",
       "         [4, 7, 7]],\n",
       "\n",
       "        [[3, 3, 6],\n",
       "         [5, 7, 9]],\n",
       "\n",
       "        [[4, 1, 4],\n",
       "         [3, 5, 8]]]])"
      ]
     },
     "execution_count": 113,
     "metadata": {},
     "output_type": "execute_result"
    }
   ],
   "source": [
    "rnd[:,:,:2,:3]"
   ]
  },
  {
   "cell_type": "code",
   "execution_count": null,
   "id": "a67acc08",
   "metadata": {},
   "outputs": [],
   "source": []
  }
 ],
 "metadata": {
  "kernelspec": {
   "display_name": "Python 3 (ipykernel)",
   "language": "python",
   "name": "python3"
  },
  "language_info": {
   "codemirror_mode": {
    "name": "ipython",
    "version": 3
   },
   "file_extension": ".py",
   "mimetype": "text/x-python",
   "name": "python",
   "nbconvert_exporter": "python",
   "pygments_lexer": "ipython3",
   "version": "3.9.7"
  }
 },
 "nbformat": 4,
 "nbformat_minor": 5
}
